{
 "cells": [
  {
   "cell_type": "code",
   "execution_count": 1,
   "metadata": {},
   "outputs": [
    {
     "name": "stdout",
     "output_type": "stream",
     "text": [
      "pygame 1.9.6\n",
      "Hello from the pygame community. https://www.pygame.org/contribute.html\n"
     ]
    }
   ],
   "source": [
    "# Standard libraries\n",
    "import time\n",
    "import sys\n",
    "\n",
    "# Outside libraries\n",
    "import pygame\n",
    "\n",
    "# Project modules\n",
    "import helpers\n",
    "from view import View, DataVizElement, StateCounter\n",
    "from hexMap import HexMap"
   ]
  },
  {
   "cell_type": "code",
   "execution_count": 2,
   "metadata": {},
   "outputs": [],
   "source": [
    "def draw_tiles_demo():\n",
    "    \"\"\" Draws a hex array, then runs a manukyan simulation\n",
    "        on it for 1000 time steps.\n",
    "    \"\"\"\n",
    "\n",
    "    helpers.assert_python_version(3, 6)\n",
    "\n",
    "    #   Create View object\n",
    "    view = View()\n",
    "    view.create_window()\n",
    "\n",
    "    #   Initialize Map\n",
    "    hex_map = HexMap(width=35, height=25)\n",
    "    hex_map.set_update_function(helpers.manukyan)\n",
    "    view.draw_hex_map(hex_map, flip=False)\n",
    "\n",
    "    #   Initialize visualization elements\n",
    "    cell_counter = StateCounter(hex_map)\n",
    "    view.add_UI_element(cell_counter)\n",
    "\n",
    "    for i in range(1000):\n",
    "        time.sleep(0.1)\n",
    "        hex_map.step()\n",
    "        view.update()\n",
    "        view.draw_hex_map(hex_map)\n",
    "\n",
    "        events = pygame.event.get()\n",
    "        if helpers.pygame_quit_event(events):\n",
    "            pygame.quit()\n",
    "            sys.exit()"
   ]
  },
  {
   "cell_type": "code",
   "execution_count": 3,
   "metadata": {},
   "outputs": [
    {
     "ename": "SystemExit",
     "evalue": "",
     "output_type": "error",
     "traceback": [
      "An exception has occurred, use %tb to see the full traceback.\n",
      "\u001b[0;31mSystemExit\u001b[0m\n"
     ]
    },
    {
     "name": "stderr",
     "output_type": "stream",
     "text": [
      "/Users/danny/anaconda3/lib/python3.7/site-packages/IPython/core/interactiveshell.py:3333: UserWarning: To exit: use 'exit', 'quit', or Ctrl-D.\n",
      "  warn(\"To exit: use 'exit', 'quit', or Ctrl-D.\", stacklevel=1)\n"
     ]
    }
   ],
   "source": [
    "draw_tiles_demo()"
   ]
  },
  {
   "cell_type": "code",
   "execution_count": null,
   "metadata": {},
   "outputs": [],
   "source": []
  }
 ],
 "metadata": {
  "kernelspec": {
   "display_name": "Python 3",
   "language": "python",
   "name": "python3"
  },
  "language_info": {
   "codemirror_mode": {
    "name": "ipython",
    "version": 3
   },
   "file_extension": ".py",
   "mimetype": "text/x-python",
   "name": "python",
   "nbconvert_exporter": "python",
   "pygments_lexer": "ipython3",
   "version": "3.7.3"
  }
 },
 "nbformat": 4,
 "nbformat_minor": 2
}
